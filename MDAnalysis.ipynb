{
 "cells": [
  {
   "cell_type": "code",
   "execution_count": 1,
   "metadata": {},
   "outputs": [
    {
     "name": "stdout",
     "output_type": "stream",
     "text": [
      "Collecting MDAnalysis\n",
      "  Downloading MDAnalysis-1.0.1.tar.gz (3.8 MB)\n",
      "\u001b[K     |████████████████████████████████| 3.8 MB 11.0 MB/s eta 0:00:01\n",
      "\u001b[?25hProcessing /home/mjain123/.cache/pip/wheels/22/6f/a6/069db0c95f9bb6b73e07da014891c58460fef1eb84f49576f0/numpy-1.16.6-cp38-cp38-linux_x86_64.whl\n",
      "Collecting biopython<1.77,>=1.71\n",
      "  Downloading biopython-1.76-cp38-cp38-manylinux1_x86_64.whl (2.3 MB)\n",
      "\u001b[K     |████████████████████████████████| 2.3 MB 11.5 MB/s eta 0:00:01\n",
      "\u001b[?25hRequirement already satisfied: networkx>=1.0 in /home/mjain123/anaconda3/lib/python3.8/site-packages (from MDAnalysis) (2.5)\n",
      "Collecting GridDataFormats>=0.4.0\n",
      "  Downloading GridDataFormats-0.5.0-py2.py3-none-any.whl (2.0 MB)\n",
      "\u001b[K     |████████████████████████████████| 2.0 MB 11.8 MB/s eta 0:00:01\n",
      "\u001b[?25hRequirement already satisfied: six>=1.4.0 in /home/mjain123/anaconda3/lib/python3.8/site-packages (from MDAnalysis) (1.15.0)\n",
      "Collecting mmtf-python>=1.0.0\n",
      "  Downloading mmtf_python-1.1.2-py2.py3-none-any.whl (21 kB)\n",
      "Collecting joblib<0.15.0,>=0.12\n",
      "  Downloading joblib-0.14.1-py2.py3-none-any.whl (294 kB)\n",
      "\u001b[K     |████████████████████████████████| 294 kB 11.7 MB/s eta 0:00:01\n",
      "\u001b[?25hRequirement already satisfied: scipy>=1.0.0 in /home/mjain123/anaconda3/lib/python3.8/site-packages (from MDAnalysis) (1.5.2)\n",
      "Requirement already satisfied: matplotlib>=1.5.1 in /home/mjain123/anaconda3/lib/python3.8/site-packages (from MDAnalysis) (3.3.2)\n",
      "Requirement already satisfied: mock in /home/mjain123/anaconda3/lib/python3.8/site-packages (from MDAnalysis) (4.0.2)\n",
      "Requirement already satisfied: tqdm>=4.43.0 in /home/mjain123/anaconda3/lib/python3.8/site-packages (from MDAnalysis) (4.50.2)\n",
      "Collecting funcsigs\n",
      "  Downloading funcsigs-1.0.2-py2.py3-none-any.whl (17 kB)\n",
      "Collecting gsd>=1.4.0\n",
      "  Downloading gsd-2.4.0-cp38-cp38-manylinux2010_x86_64.whl (387 kB)\n",
      "\u001b[K     |████████████████████████████████| 387 kB 11.4 MB/s eta 0:00:01\n",
      "\u001b[?25hRequirement already satisfied: decorator>=4.3.0 in /home/mjain123/anaconda3/lib/python3.8/site-packages (from networkx>=1.0->MDAnalysis) (4.4.2)\n",
      "Requirement already satisfied: msgpack>=0.5.6 in /home/mjain123/anaconda3/lib/python3.8/site-packages (from mmtf-python>=1.0.0->MDAnalysis) (1.0.0)\n",
      "Requirement already satisfied: python-dateutil>=2.1 in /home/mjain123/anaconda3/lib/python3.8/site-packages (from matplotlib>=1.5.1->MDAnalysis) (2.8.1)\n",
      "Requirement already satisfied: cycler>=0.10 in /home/mjain123/anaconda3/lib/python3.8/site-packages (from matplotlib>=1.5.1->MDAnalysis) (0.10.0)\n",
      "Requirement already satisfied: certifi>=2020.06.20 in /home/mjain123/anaconda3/lib/python3.8/site-packages (from matplotlib>=1.5.1->MDAnalysis) (2020.6.20)\n",
      "Requirement already satisfied: pyparsing!=2.0.4,!=2.1.2,!=2.1.6,>=2.0.3 in /home/mjain123/anaconda3/lib/python3.8/site-packages (from matplotlib>=1.5.1->MDAnalysis) (2.4.7)\n",
      "Requirement already satisfied: pillow>=6.2.0 in /home/mjain123/anaconda3/lib/python3.8/site-packages (from matplotlib>=1.5.1->MDAnalysis) (8.0.1)\n",
      "Requirement already satisfied: kiwisolver>=1.0.1 in /home/mjain123/anaconda3/lib/python3.8/site-packages (from matplotlib>=1.5.1->MDAnalysis) (1.3.0)\n",
      "Requirement already satisfied: cython<1,>=0.29.0 in /home/mjain123/anaconda3/lib/python3.8/site-packages (from gsd>=1.4.0->MDAnalysis) (0.29.21)\n",
      "Building wheels for collected packages: MDAnalysis\n",
      "  Building wheel for MDAnalysis (setup.py) ... \u001b[?25ldone\n",
      "\u001b[?25h  Created wheel for MDAnalysis: filename=MDAnalysis-1.0.1-cp38-cp38-linux_x86_64.whl size=4909368 sha256=167b54ce90df5f13c51d48f090c30065ae439fc8efbb59c56ac08f9580d6e908\n",
      "  Stored in directory: /home/mjain123/.cache/pip/wheels/2c/a4/72/c6760006712ac494a0c32a244f51e46d4e9418a9971209a3a2\n",
      "Successfully built MDAnalysis\n",
      "Installing collected packages: numpy, biopython, GridDataFormats, mmtf-python, joblib, funcsigs, gsd, MDAnalysis\n",
      "  Attempting uninstall: numpy\n",
      "    Found existing installation: numpy 1.19.2\n",
      "    Uninstalling numpy-1.19.2:\n",
      "      Successfully uninstalled numpy-1.19.2\n",
      "  Attempting uninstall: joblib\n",
      "    Found existing installation: joblib 0.17.0\n",
      "    Uninstalling joblib-0.17.0:\n",
      "      Successfully uninstalled joblib-0.17.0\n",
      "Successfully installed GridDataFormats-0.5.0 MDAnalysis-1.0.1 biopython-1.76 funcsigs-1.0.2 gsd-2.4.0 joblib-0.14.1 mmtf-python-1.1.2 numpy-1.16.6\n",
      "Note: you may need to restart the kernel to use updated packages.\n"
     ]
    }
   ],
   "source": [
    "pip install MDAnalysis"
   ]
  },
  {
   "cell_type": "code",
   "execution_count": null,
   "metadata": {},
   "outputs": [],
   "source": [
    "import MDAnalysis as mda\n",
    "u = mda.Universe()"
   ]
  }
 ],
 "metadata": {
  "kernelspec": {
   "display_name": "Python 3",
   "language": "python",
   "name": "python3"
  },
  "language_info": {
   "codemirror_mode": {
    "name": "ipython",
    "version": 3
   },
   "file_extension": ".py",
   "mimetype": "text/x-python",
   "name": "python",
   "nbconvert_exporter": "python",
   "pygments_lexer": "ipython3",
   "version": "3.8.5"
  }
 },
 "nbformat": 4,
 "nbformat_minor": 4
}
