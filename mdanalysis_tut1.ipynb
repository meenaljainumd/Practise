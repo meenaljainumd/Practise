{
 "cells": [
  {
   "cell_type": "code",
   "execution_count": 2,
   "id": "mature-carolina",
   "metadata": {},
   "outputs": [],
   "source": [
    "import MDAnalysis as mda"
   ]
  },
  {
   "cell_type": "code",
   "execution_count": 3,
   "id": "african-voluntary",
   "metadata": {},
   "outputs": [
    {
     "name": "stdout",
     "output_type": "stream",
     "text": [
      "<Universe with 184 atoms>\n"
     ]
    }
   ],
   "source": [
    "u= mda.Universe('pp_chain_2_w1O_h2o.pdb', 'md_cat_pi_350_full_bb.xtc')\n",
    "print(u)"
   ]
  },
  {
   "cell_type": "code",
   "execution_count": 14,
   "id": "flying-collection",
   "metadata": {},
   "outputs": [
    {
     "name": "stdout",
     "output_type": "stream",
     "text": [
      "<AtomGroup [<Atom 1: BB of type B of resname ALA, resid 0 and segid seg_ and altLoc >, <Atom 2: BBp of type B of resname ALA, resid 0 and segid seg_ and altLoc >, <Atom 3: BBm of type B of resname ALA, resid 0 and segid seg_ and altLoc >, ..., <Atom 182: BB of type B of resname GLY, resid 39 and segid seg_ and altLoc >, <Atom 183: BBp of type B of resname GLY, resid 39 and segid seg_ and altLoc >, <Atom 184: BBm of type B of resname GLY, resid 39 and segid seg_ and altLoc >]>\n"
     ]
    }
   ],
   "source": [
    "print(u.atoms)"
   ]
  },
  {
   "cell_type": "code",
   "execution_count": 16,
   "id": "objective-politics",
   "metadata": {},
   "outputs": [
    {
     "name": "stdout",
     "output_type": "stream",
     "text": [
      "<AtomGroup [<Atom 1: BB of type B of resname ALA, resid 0 and segid seg_ and altLoc >, <Atom 2: BBp of type B of resname ALA, resid 0 and segid seg_ and altLoc >, <Atom 3: BBm of type B of resname ALA, resid 0 and segid seg_ and altLoc >, <Atom 4: BB of type B of resname GLU, resid 1 and segid seg_ and altLoc >, <Atom 5: BBp of type B of resname GLU, resid 1 and segid seg_ and altLoc >]>\n"
     ]
    }
   ],
   "source": [
    "print(u.atoms[:5])"
   ]
  },
  {
   "cell_type": "code",
   "execution_count": 17,
   "id": "negative-index",
   "metadata": {},
   "outputs": [
    {
     "data": {
      "text/plain": [
       "<ResidueGroup with 3 residues>"
      ]
     },
     "execution_count": 17,
     "metadata": {},
     "output_type": "execute_result"
    }
   ],
   "source": [
    "u.atoms[3:15].residues"
   ]
  },
  {
   "cell_type": "code",
   "execution_count": 18,
   "id": "pending-suite",
   "metadata": {},
   "outputs": [
    {
     "data": {
      "text/plain": [
       "[<Residue GLU, 1>, <Residue GLN, 2>, <Residue LEU, 3>]"
      ]
     },
     "execution_count": 18,
     "metadata": {},
     "output_type": "execute_result"
    }
   ],
   "source": [
    "list(u.atoms[3:15].residues)"
   ]
  },
  {
   "cell_type": "code",
   "execution_count": 19,
   "id": "dimensional-anaheim",
   "metadata": {},
   "outputs": [
    {
     "name": "stdout",
     "output_type": "stream",
     "text": [
      "<AtomGroup [<Atom 4: BB of type B of resname GLU, resid 1 and segid seg_ and altLoc >, <Atom 5: BBp of type B of resname GLU, resid 1 and segid seg_ and altLoc >, <Atom 6: BBm of type B of resname GLU, resid 1 and segid seg_ and altLoc >, ..., <Atom 13: S1p of type S of resname GLN, resid 2 and segid seg_ and altLoc >, <Atom 14: S1m of type S of resname GLN, resid 2 and segid seg_ and altLoc >, <Atom 15: BB of type B of resname LEU, resid 3 and segid seg_ and altLoc >]>\n"
     ]
    }
   ],
   "source": [
    "print(u.atoms[3:15])"
   ]
  },
  {
   "cell_type": "code",
   "execution_count": 20,
   "id": "effective-taiwan",
   "metadata": {},
   "outputs": [
    {
     "data": {
      "text/plain": [
       "<SegmentGroup with 1 segment>"
      ]
     },
     "execution_count": 20,
     "metadata": {},
     "output_type": "execute_result"
    }
   ],
   "source": [
    "u.atoms.segments\n"
   ]
  },
  {
   "cell_type": "code",
   "execution_count": 21,
   "id": "likely-tattoo",
   "metadata": {},
   "outputs": [
    {
     "data": {
      "text/plain": [
       "[<Segment seg_>]"
      ]
     },
     "execution_count": 21,
     "metadata": {},
     "output_type": "execute_result"
    }
   ],
   "source": [
    "list(u.atoms.segments)"
   ]
  },
  {
   "cell_type": "code",
   "execution_count": 24,
   "id": "characteristic-nerve",
   "metadata": {},
   "outputs": [],
   "source": [
    "r= u.atoms[182:184].residues"
   ]
  },
  {
   "cell_type": "code",
   "execution_count": 25,
   "id": "moral-sight",
   "metadata": {},
   "outputs": [
    {
     "data": {
      "text/plain": [
       "<Atom 184: BBm of type B of resname GLY, resid 39 and segid seg_ and altLoc >"
      ]
     },
     "execution_count": 25,
     "metadata": {},
     "output_type": "execute_result"
    }
   ],
   "source": [
    "r.atoms[-1]"
   ]
  },
  {
   "cell_type": "code",
   "execution_count": 26,
   "id": "detailed-celebration",
   "metadata": {},
   "outputs": [
    {
     "name": "stdout",
     "output_type": "stream",
     "text": [
      "<ResidueGroup [<Residue GLY, 39>]>\n"
     ]
    }
   ],
   "source": [
    "print(r)"
   ]
  },
  {
   "cell_type": "code",
   "execution_count": 28,
   "id": "textile-chaos",
   "metadata": {},
   "outputs": [
    {
     "name": "stdout",
     "output_type": "stream",
     "text": [
      "4\n"
     ]
    }
   ],
   "source": [
    "print(len(u.atoms[180:184]))"
   ]
  },
  {
   "cell_type": "code",
   "execution_count": 29,
   "id": "quarterly-publicity",
   "metadata": {},
   "outputs": [
    {
     "name": "stdout",
     "output_type": "stream",
     "text": [
      "7\n"
     ]
    }
   ],
   "source": [
    "print(len(u.atoms[180:184].residues.atoms))"
   ]
  },
  {
   "cell_type": "code",
   "execution_count": 30,
   "id": "absolute-hamilton",
   "metadata": {},
   "outputs": [
    {
     "data": {
      "text/plain": [
       "<ResidueGroup with 2 residues>"
      ]
     },
     "execution_count": 30,
     "metadata": {},
     "output_type": "execute_result"
    }
   ],
   "source": [
    "u.atoms[180:184].residues"
   ]
  },
  {
   "cell_type": "code",
   "execution_count": 31,
   "id": "awful-alloy",
   "metadata": {},
   "outputs": [
    {
     "data": {
      "text/plain": [
       "[<Residue LEU, 38>, <Residue GLY, 39>]"
      ]
     },
     "execution_count": 31,
     "metadata": {},
     "output_type": "execute_result"
    }
   ],
   "source": [
    "list(u.atoms[180:184].residues)"
   ]
  },
  {
   "cell_type": "code",
   "execution_count": 32,
   "id": "strong-crack",
   "metadata": {},
   "outputs": [
    {
     "data": {
      "text/plain": [
       "<AtomGroup with 4 atoms>"
      ]
     },
     "execution_count": 32,
     "metadata": {},
     "output_type": "execute_result"
    }
   ],
   "source": [
    "u.atoms[180:184]"
   ]
  },
  {
   "cell_type": "code",
   "execution_count": 33,
   "id": "subject-firmware",
   "metadata": {},
   "outputs": [
    {
     "name": "stdout",
     "output_type": "stream",
     "text": [
      "<AtomGroup [<Atom 181: S1 of type S of resname LEU, resid 38 and segid seg_ and altLoc >, <Atom 182: BB of type B of resname GLY, resid 39 and segid seg_ and altLoc >, <Atom 183: BBp of type B of resname GLY, resid 39 and segid seg_ and altLoc >, <Atom 184: BBm of type B of resname GLY, resid 39 and segid seg_ and altLoc >]>\n"
     ]
    }
   ],
   "source": [
    "print(u.atoms[180:184])"
   ]
  },
  {
   "cell_type": "code",
   "execution_count": 34,
   "id": "killing-tampa",
   "metadata": {},
   "outputs": [
    {
     "name": "stdout",
     "output_type": "stream",
     "text": [
      "<AtomGroup [<Atom 178: BB of type B of resname LEU, resid 38 and segid seg_ and altLoc >, <Atom 179: BBp of type B of resname LEU, resid 38 and segid seg_ and altLoc >, <Atom 180: BBm of type B of resname LEU, resid 38 and segid seg_ and altLoc >, <Atom 181: S1 of type S of resname LEU, resid 38 and segid seg_ and altLoc >, <Atom 182: BB of type B of resname GLY, resid 39 and segid seg_ and altLoc >, <Atom 183: BBp of type B of resname GLY, resid 39 and segid seg_ and altLoc >, <Atom 184: BBm of type B of resname GLY, resid 39 and segid seg_ and altLoc >]>\n"
     ]
    }
   ],
   "source": [
    "print(u.atoms[180:184].residues.atoms)"
   ]
  },
  {
   "cell_type": "code",
   "execution_count": 43,
   "id": "royal-ready",
   "metadata": {},
   "outputs": [
    {
     "name": "stdout",
     "output_type": "stream",
     "text": [
      "40\n"
     ]
    }
   ],
   "source": [
    "print(len(u.atoms.residues)) "
   ]
  },
  {
   "cell_type": "code",
   "execution_count": 53,
   "id": "legendary-northern",
   "metadata": {},
   "outputs": [
    {
     "name": "stdout",
     "output_type": "stream",
     "text": [
      "<AtomGroup [<Atom 1: BB of type B of resname ALA, resid 0 and segid seg_ and altLoc >, <Atom 2: BBp of type B of resname ALA, resid 0 and segid seg_ and altLoc >, <Atom 3: BBm of type B of resname ALA, resid 0 and segid seg_ and altLoc >, ..., <Atom 182: BB of type B of resname GLY, resid 39 and segid seg_ and altLoc >, <Atom 183: BBp of type B of resname GLY, resid 39 and segid seg_ and altLoc >, <Atom 184: BBm of type B of resname GLY, resid 39 and segid seg_ and altLoc >]>\n"
     ]
    }
   ],
   "source": [
    "print(u.atoms.residues.atoms)"
   ]
  },
  {
   "cell_type": "code",
   "execution_count": 99,
   "id": "happy-mason",
   "metadata": {},
   "outputs": [
    {
     "name": "stdout",
     "output_type": "stream",
     "text": [
      "40\n",
      "<Residue GLY, 39>\n",
      "<Residue GLY, 39>\n",
      "<Residue GLY, 39>\n",
      "<Residue GLY, 39>\n",
      "<Residue GLY, 39>\n",
      "<Residue GLY, 39>\n",
      "<Residue GLY, 39>\n",
      "<Residue GLY, 39>\n",
      "<Residue GLY, 39>\n",
      "<Residue GLY, 39>\n",
      "<Residue GLY, 39>\n",
      "<Residue GLY, 39>\n",
      "<Residue GLY, 39>\n",
      "<Residue GLY, 39>\n",
      "<Residue GLY, 39>\n",
      "<Residue GLY, 39>\n",
      "<Residue GLY, 39>\n",
      "<Residue GLY, 39>\n",
      "<Residue GLY, 39>\n",
      "<Residue GLY, 39>\n",
      "<Residue GLY, 39>\n",
      "<Residue GLY, 39>\n",
      "<Residue GLY, 39>\n",
      "<Residue GLY, 39>\n",
      "<Residue GLY, 39>\n",
      "<Residue GLY, 39>\n",
      "<Residue GLY, 39>\n",
      "<Residue GLY, 39>\n",
      "<Residue GLY, 39>\n",
      "<Residue GLY, 39>\n",
      "<Residue GLY, 39>\n",
      "<Residue GLY, 39>\n",
      "<Residue GLY, 39>\n",
      "<Residue GLY, 39>\n",
      "<Residue GLY, 39>\n",
      "<Residue GLY, 39>\n",
      "<Residue GLY, 39>\n",
      "<Residue GLY, 39>\n",
      "<Residue GLY, 39>\n",
      "<Residue GLY, 39>\n",
      "['ALA', 'GLU', 'GLN', 'LEU', 'THR', 'GLU', 'GLU', 'GLN', 'ILE', 'ALA', 'GLU', 'PHE', 'LYS', 'GLU', 'ALA', 'PHE', 'ALA', 'LEU', 'PHE', 'ASP', 'LYS', 'ASP', 'GLY', 'ASP', 'GLY', 'THR', 'ILE', 'THR', 'THR', 'LYS', 'GLU', 'LEU', 'GLY', 'THR', 'VAL', 'MET', 'ARG', 'SER', 'LEU', 'GLY']\n"
     ]
    }
   ],
   "source": []
  },
  {
   "cell_type": "code",
   "execution_count": 100,
   "id": "manual-speed",
   "metadata": {},
   "outputs": [
    {
     "name": "stdout",
     "output_type": "stream",
     "text": [
      "Once deleted, variables cannot be recovered. Proceed (y/[n])? y\n"
     ]
    }
   ],
   "source": [
    "%reset\n"
   ]
  },
  {
   "cell_type": "code",
   "execution_count": 101,
   "id": "higher-local",
   "metadata": {},
   "outputs": [
    {
     "ename": "NameError",
     "evalue": "name 'u' is not defined",
     "output_type": "error",
     "traceback": [
      "\u001b[0;31m---------------------------------------------------------------------------\u001b[0m",
      "\u001b[0;31mNameError\u001b[0m                                 Traceback (most recent call last)",
      "\u001b[0;32m<ipython-input-101-f7a893c68ed4>\u001b[0m in \u001b[0;36m<module>\u001b[0;34m\u001b[0m\n\u001b[0;32m----> 1\u001b[0;31m \u001b[0mprint\u001b[0m\u001b[0;34m(\u001b[0m\u001b[0mu\u001b[0m\u001b[0;34m)\u001b[0m\u001b[0;34m\u001b[0m\u001b[0;34m\u001b[0m\u001b[0m\n\u001b[0m",
      "\u001b[0;31mNameError\u001b[0m: name 'u' is not defined"
     ]
    }
   ],
   "source": [
    "print(u)"
   ]
  },
  {
   "cell_type": "code",
   "execution_count": 102,
   "id": "federal-letters",
   "metadata": {},
   "outputs": [
    {
     "ename": "NameError",
     "evalue": "name 'mda' is not defined",
     "output_type": "error",
     "traceback": [
      "\u001b[0;31m---------------------------------------------------------------------------\u001b[0m",
      "\u001b[0;31mNameError\u001b[0m                                 Traceback (most recent call last)",
      "\u001b[0;32m<ipython-input-102-faf223937428>\u001b[0m in \u001b[0;36m<module>\u001b[0;34m\u001b[0m\n\u001b[0;32m----> 1\u001b[0;31m \u001b[0mmda\u001b[0m\u001b[0;34m\u001b[0m\u001b[0;34m\u001b[0m\u001b[0m\n\u001b[0m",
      "\u001b[0;31mNameError\u001b[0m: name 'mda' is not defined"
     ]
    }
   ],
   "source": [
    "mda\n"
   ]
  },
  {
   "cell_type": "code",
   "execution_count": 103,
   "id": "relative-mobility",
   "metadata": {},
   "outputs": [],
   "source": [
    "import MDAnalysis as mda"
   ]
  },
  {
   "cell_type": "code",
   "execution_count": 104,
   "id": "understanding-button",
   "metadata": {},
   "outputs": [
    {
     "name": "stdout",
     "output_type": "stream",
     "text": [
      "<Universe with 184 atoms>\n"
     ]
    }
   ],
   "source": [
    "u= mda.Universe('pp_chain_2_w1O_h2o.pdb', 'md_cat_pi_350_full_bb.xtc')\n",
    "print(u)"
   ]
  },
  {
   "cell_type": "code",
   "execution_count": 105,
   "id": "following-samba",
   "metadata": {},
   "outputs": [
    {
     "name": "stdout",
     "output_type": "stream",
     "text": [
      "40\n"
     ]
    }
   ],
   "source": [
    "n_res = len(u.atoms.residues)\n",
    "print(n_res)"
   ]
  },
  {
   "cell_type": "code",
   "execution_count": 106,
   "id": "domestic-suffering",
   "metadata": {},
   "outputs": [
    {
     "name": "stdout",
     "output_type": "stream",
     "text": [
      "<ResidueGroup [<Residue ALA, 0>, <Residue GLU, 1>, <Residue GLN, 2>, ..., <Residue SER, 37>, <Residue LEU, 38>, <Residue GLY, 39>]>\n"
     ]
    }
   ],
   "source": [
    "res_list = u.atoms.residues\n",
    "print(res_list)"
   ]
  },
  {
   "cell_type": "code",
   "execution_count": 117,
   "id": "stunning-ethernet",
   "metadata": {},
   "outputs": [
    {
     "name": "stdout",
     "output_type": "stream",
     "text": [
      "[('ALA', '0'), ('GLU', '1'), ('GLN', '2'), ('LEU', '3'), ('THR', '4'), ('GLU', '5'), ('GLU', '6'), ('GLN', '7'), ('ILE', '8'), ('ALA', '9'), ('GLU', '10'), ('PHE', '11'), ('LYS', '12'), ('GLU', '13'), ('ALA', '14'), ('PHE', '15'), ('ALA', '16'), ('LEU', '17'), ('PHE', '18'), ('ASP', '19'), ('LYS', '20'), ('ASP', '21'), ('GLY', '22'), ('ASP', '23'), ('GLY', '24'), ('THR', '25'), ('ILE', '26'), ('THR', '27'), ('THR', '28'), ('LYS', '29'), ('GLU', '30'), ('LEU', '31'), ('GLY', '32'), ('THR', '33'), ('VAL', '34'), ('MET', '35'), ('ARG', '36'), ('SER', '37'), ('LEU', '38'), ('GLY', '39')]\n"
     ]
    }
   ],
   "source": [
    "res_name_list=[]\n",
    "res_id_list=[]\n",
    "\n",
    "for i in range(n_res):\n",
    "    res=str(res_list[i]).split()\n",
    "    res_name= res[1][0:3]\n",
    "  \n",
    "    res_name_list.append(res_name)\n",
    "    x= res[2].index('>')\n",
    "   \n",
    "    res_id = res[2][0:x]\n",
    "    res_id_list.append(res_id)\n",
    "    \n",
    "print(list(zip(res_name_list,res_id_list)))"
   ]
  },
  {
   "cell_type": "code",
   "execution_count": 119,
   "id": "subject-rider",
   "metadata": {},
   "outputs": [
    {
     "data": {
      "text/plain": [
       "[('ALA', 0),\n",
       " ('GLU', 1),\n",
       " ('GLN', 2),\n",
       " ('LEU', 3),\n",
       " ('THR', 4),\n",
       " ('GLU', 5),\n",
       " ('GLU', 6),\n",
       " ('GLN', 7),\n",
       " ('ILE', 8),\n",
       " ('ALA', 9),\n",
       " ('GLU', 10),\n",
       " ('PHE', 11),\n",
       " ('LYS', 12),\n",
       " ('GLU', 13),\n",
       " ('ALA', 14),\n",
       " ('PHE', 15),\n",
       " ('ALA', 16),\n",
       " ('LEU', 17),\n",
       " ('PHE', 18),\n",
       " ('ASP', 19),\n",
       " ('LYS', 20),\n",
       " ('ASP', 21),\n",
       " ('GLY', 22),\n",
       " ('ASP', 23),\n",
       " ('GLY', 24),\n",
       " ('THR', 25),\n",
       " ('ILE', 26),\n",
       " ('THR', 27),\n",
       " ('THR', 28),\n",
       " ('LYS', 29),\n",
       " ('GLU', 30),\n",
       " ('LEU', 31),\n",
       " ('GLY', 32),\n",
       " ('THR', 33),\n",
       " ('VAL', 34),\n",
       " ('MET', 35),\n",
       " ('ARG', 36),\n",
       " ('SER', 37),\n",
       " ('LEU', 38),\n",
       " ('GLY', 39)]"
      ]
     },
     "execution_count": 119,
     "metadata": {},
     "output_type": "execute_result"
    }
   ],
   "source": [
    "resnames= u.atoms.residues.resnames\n",
    "resids= u.atoms.residues.resids\n",
    "list(zip(resnames,resids))"
   ]
  },
  {
   "cell_type": "code",
   "execution_count": 122,
   "id": "limited-indication",
   "metadata": {},
   "outputs": [
    {
     "name": "stdout",
     "output_type": "stream",
     "text": [
      "LEU 17\n"
     ]
    }
   ],
   "source": [
    "r=u.atoms.residues[17]\n",
    "print(r.resname,r.resid)\n"
   ]
  },
  {
   "cell_type": "code",
   "execution_count": 123,
   "id": "arabic-gathering",
   "metadata": {},
   "outputs": [
    {
     "data": {
      "text/plain": [
       "1"
      ]
     },
     "execution_count": 123,
     "metadata": {},
     "output_type": "execute_result"
    }
   ],
   "source": [
    "len(u.segments)"
   ]
  },
  {
   "cell_type": "code",
   "execution_count": 124,
   "id": "loaded-future",
   "metadata": {},
   "outputs": [
    {
     "data": {
      "text/plain": [
       "1"
      ]
     },
     "execution_count": 124,
     "metadata": {},
     "output_type": "execute_result"
    }
   ],
   "source": [
    "len(u.atoms.segments)"
   ]
  },
  {
   "cell_type": "code",
   "execution_count": 126,
   "id": "green-galaxy",
   "metadata": {},
   "outputs": [
    {
     "data": {
      "text/plain": [
       "1"
      ]
     },
     "execution_count": 126,
     "metadata": {},
     "output_type": "execute_result"
    }
   ],
   "source": [
    "u.atoms.n_segments"
   ]
  },
  {
   "cell_type": "code",
   "execution_count": 9,
   "id": "optimum-independence",
   "metadata": {},
   "outputs": [
    {
     "name": "stdout",
     "output_type": "stream",
     "text": [
      "48098\n"
     ]
    }
   ],
   "source": [
    "print(u.trajectory.n_frames)"
   ]
  },
  {
   "cell_type": "code",
   "execution_count": 18,
   "id": "north-offer",
   "metadata": {},
   "outputs": [],
   "source": [
    "with mda.Writer(\"trial.xtc\", u.atoms.residues) as W:\n",
    "    for ts in u.trajectory:\n",
    "        W.write(u.select_atoms(\"name BB\"))"
   ]
  },
  {
   "cell_type": "code",
   "execution_count": null,
   "id": "saving-footage",
   "metadata": {},
   "outputs": [],
   "source": []
  },
  {
   "cell_type": "code",
   "execution_count": null,
   "id": "textile-facial",
   "metadata": {},
   "outputs": [],
   "source": []
  }
 ],
 "metadata": {
  "kernelspec": {
   "display_name": "Python 3",
   "language": "python",
   "name": "python3"
  },
  "language_info": {
   "codemirror_mode": {
    "name": "ipython",
    "version": 3
   },
   "file_extension": ".py",
   "mimetype": "text/x-python",
   "name": "python",
   "nbconvert_exporter": "python",
   "pygments_lexer": "ipython3",
   "version": "3.9.1"
  }
 },
 "nbformat": 4,
 "nbformat_minor": 5
}
