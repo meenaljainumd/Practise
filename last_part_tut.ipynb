{
 "cells": [
  {
   "cell_type": "code",
   "execution_count": 26,
   "metadata": {},
   "outputs": [
    {
     "name": "stdout",
     "output_type": "stream",
     "text": [
      "Once deleted, variables cannot be recovered. Proceed (y/[n])? n\n",
      "Nothing done.\n"
     ]
    }
   ],
   "source": [
    "import MDAnalysis as mda\n",
    "u= mda.Universe('pp_chain_2_w1O_h2o.pdb', 'md_cat_pi_350_full_bb.xtc')\n",
    "import numpy as np\n",
    "%reset"
   ]
  },
  {
   "cell_type": "code",
   "execution_count": 5,
   "metadata": {},
   "outputs": [
    {
     "data": {
      "text/plain": [
       "48098"
      ]
     },
     "execution_count": 5,
     "metadata": {},
     "output_type": "execute_result"
    }
   ],
   "source": [
    "len(u.trajectory)"
   ]
  },
  {
   "cell_type": "code",
   "execution_count": 32,
   "metadata": {},
   "outputs": [],
   "source": [
    "Rgyr=[]\n",
    "time_li=[]\n",
    "bb=u.select_atoms(\"name BB\")\n",
    "for ts in u.trajectory:\n",
    "   Rgyr.append(bb.radius_of_gyration())\n",
    "   time_li.append(u.trajectory.time)\n",
    "\n",
    "\n",
    "               "
   ]
  },
  {
   "cell_type": "code",
   "execution_count": 27,
   "metadata": {},
   "outputs": [],
   "source": [
    "import matplotlib.pyplot as plt\n",
    "%matplotlib inline"
   ]
  },
  {
   "cell_type": "code",
   "execution_count": 39,
   "metadata": {},
   "outputs": [
    {
     "data": {
      "image/png": "[encoded data removed]",
      "text/plain": [
       "<Figure size 432x288 with 1 Axes>"
      ]
     },
     "metadata": {
      "needs_background": "light"
     },
     "output_type": "display_data"
    }
   ],
   "source": [
    "ax=plt.subplot(111)\n",
    "ax.plot(time_li,Rgyr,'r',lw=2)\n",
    "plt.show()"
   ]
  },
  {
   "cell_type": "code",
   "execution_count": 40,
   "metadata": {},
   "outputs": [
    {
     "data": {
      "text/plain": [
       "< Timestep 50 with unit cell dimensions [154.15907 154.15907 154.15907  90.       90.       90.     ] >"
      ]
     },
     "execution_count": 40,
     "metadata": {},
     "output_type": "execute_result"
    }
   ],
   "source": [
    "u.trajectory[50]\n"
   ]
  },
  {
   "cell_type": "code",
   "execution_count": 41,
   "metadata": {},
   "outputs": [
    {
     "data": {
      "text/plain": [
       "50"
      ]
     },
     "execution_count": 41,
     "metadata": {},
     "output_type": "execute_result"
    }
   ],
   "source": [
    "ts.frame"
   ]
  },
  {
   "cell_type": "code",
   "execution_count": 77,
   "metadata": {},
   "outputs": [],
   "source": [
    "import numpy as np\n",
    "import MDAnalysis.analysis.align\n",
    "from MDAnalysisTests.datafiles import PSF, DCD"
   ]
  },
  {
   "cell_type": "code",
   "execution_count": 45,
   "metadata": {},
   "outputs": [],
   "source": [
    "u = MDAnalysis.Universe(PSF,DCD)\n",
    "ref= MDAnalysis.Universe(PSF,DCD)# copy of u\n",
    "CORE_selection = \"resid 1-29 or resid 60-121 or resid 160-214\"\n",
    "pdbtrj = \"adk_distance_bfac.pdb\""
   ]
  },
  {
   "cell_type": "code",
   "execution_count": 47,
   "metadata": {},
   "outputs": [
    {
     "name": "stderr",
     "output_type": "stream",
     "text": [
      "/home/mjain123/anaconda3/lib/python3.8/site-packages/MDAnalysis/coordinates/PDB.py:1026: UserWarning: Found no information for attr: 'altLocs' Using default value of ' '\n",
      "  warnings.warn(\"Found no information for attr: '{}'\"\n",
      "/home/mjain123/anaconda3/lib/python3.8/site-packages/MDAnalysis/coordinates/PDB.py:1026: UserWarning: Found no information for attr: 'icodes' Using default value of ' '\n",
      "  warnings.warn(\"Found no information for attr: '{}'\"\n",
      "/home/mjain123/anaconda3/lib/python3.8/site-packages/MDAnalysis/coordinates/PDB.py:1026: UserWarning: Found no information for attr: 'occupancies' Using default value of '1.0'\n",
      "  warnings.warn(\"Found no information for attr: '{}'\"\n"
     ]
    },
    {
     "name": "stdout",
     "output_type": "stream",
     "text": [
      "Frame 0: CORE RMSD before/after superposition: 0.0 / 0.0 A. min-max displacement: 0.0...0.0 A\n",
      "Frame 1: CORE RMSD before/after superposition: 0.7 / 0.7 A. min-max displacement: 0.0...3.5 A\n",
      "Frame 2: CORE RMSD before/after superposition: 0.8 / 0.8 A. min-max displacement: 0.0...3.6 A\n",
      "Frame 3: CORE RMSD before/after superposition: 1.0 / 1.0 A. min-max displacement: 0.0...4.2 A\n",
      "Frame 4: CORE RMSD before/after superposition: 1.1 / 1.0 A. min-max displacement: 0.0...4.7 A\n",
      "Frame 5: CORE RMSD before/after superposition: 1.1 / 1.1 A. min-max displacement: 0.0...6.3 A\n",
      "Frame 6: CORE RMSD before/after superposition: 1.2 / 1.1 A. min-max displacement: 0.1...6.4 A\n",
      "Frame 7: CORE RMSD before/after superposition: 1.3 / 1.2 A. min-max displacement: 0.1...7.2 A\n",
      "Frame 8: CORE RMSD before/after superposition: 1.3 / 1.2 A. min-max displacement: 0.1...7.3 A\n",
      "Frame 9: CORE RMSD before/after superposition: 1.4 / 1.3 A. min-max displacement: 0.0...6.6 A\n",
      "Frame 10: CORE RMSD before/after superposition: 1.5 / 1.3 A. min-max displacement: 0.1...6.7 A\n",
      "Frame 11: CORE RMSD before/after superposition: 1.5 / 1.4 A. min-max displacement: 0.0...7.6 A\n",
      "Frame 12: CORE RMSD before/after superposition: 1.6 / 1.4 A. min-max displacement: 0.0...8.0 A\n",
      "Frame 13: CORE RMSD before/after superposition: 1.6 / 1.4 A. min-max displacement: 0.0...8.6 A\n",
      "Frame 14: CORE RMSD before/after superposition: 1.7 / 1.4 A. min-max displacement: 0.0...8.7 A\n",
      "Frame 15: CORE RMSD before/after superposition: 1.7 / 1.5 A. min-max displacement: 0.1...8.6 A\n",
      "Frame 16: CORE RMSD before/after superposition: 1.7 / 1.5 A. min-max displacement: 0.0...8.7 A\n",
      "Frame 17: CORE RMSD before/after superposition: 1.8 / 1.5 A. min-max displacement: 0.0...8.5 A\n",
      "Frame 18: CORE RMSD before/after superposition: 1.8 / 1.5 A. min-max displacement: 0.0...9.3 A\n",
      "Frame 19: CORE RMSD before/after superposition: 1.8 / 1.5 A. min-max displacement: 0.0...9.8 A\n",
      "Frame 20: CORE RMSD before/after superposition: 1.9 / 1.5 A. min-max displacement: 0.1...10.0 A\n",
      "Frame 21: CORE RMSD before/after superposition: 1.9 / 1.6 A. min-max displacement: 0.1...10.3 A\n",
      "Frame 22: CORE RMSD before/after superposition: 2.0 / 1.6 A. min-max displacement: 0.1...10.2 A\n",
      "Frame 23: CORE RMSD before/after superposition: 2.0 / 1.7 A. min-max displacement: 0.1...10.3 A\n",
      "Frame 24: CORE RMSD before/after superposition: 2.1 / 1.7 A. min-max displacement: 0.1...11.4 A\n",
      "Frame 25: CORE RMSD before/after superposition: 2.2 / 1.7 A. min-max displacement: 0.0...11.5 A\n",
      "Frame 26: CORE RMSD before/after superposition: 2.2 / 1.7 A. min-max displacement: 0.1...11.5 A\n",
      "Frame 27: CORE RMSD before/after superposition: 2.2 / 1.8 A. min-max displacement: 0.1...12.3 A\n",
      "Frame 28: CORE RMSD before/after superposition: 2.3 / 1.8 A. min-max displacement: 0.1...12.5 A\n",
      "Frame 29: CORE RMSD before/after superposition: 2.4 / 1.8 A. min-max displacement: 0.1...12.7 A\n",
      "Frame 30: CORE RMSD before/after superposition: 2.4 / 1.9 A. min-max displacement: 0.1...13.2 A\n",
      "Frame 31: CORE RMSD before/after superposition: 2.5 / 1.9 A. min-max displacement: 0.1...13.1 A\n",
      "Frame 32: CORE RMSD before/after superposition: 2.6 / 1.9 A. min-max displacement: 0.1...13.7 A\n",
      "Frame 33: CORE RMSD before/after superposition: 2.5 / 1.9 A. min-max displacement: 0.1...14.4 A\n",
      "Frame 34: CORE RMSD before/after superposition: 2.6 / 1.9 A. min-max displacement: 0.1...14.8 A\n",
      "Frame 35: CORE RMSD before/after superposition: 2.6 / 1.9 A. min-max displacement: 0.2...15.0 A\n",
      "Frame 36: CORE RMSD before/after superposition: 2.7 / 1.9 A. min-max displacement: 0.2...15.6 A\n",
      "Frame 37: CORE RMSD before/after superposition: 2.7 / 1.9 A. min-max displacement: 0.1...15.4 A\n",
      "Frame 38: CORE RMSD before/after superposition: 2.7 / 2.0 A. min-max displacement: 0.1...15.8 A\n",
      "Frame 39: CORE RMSD before/after superposition: 2.8 / 2.0 A. min-max displacement: 0.1...16.1 A\n",
      "Frame 40: CORE RMSD before/after superposition: 2.8 / 2.0 A. min-max displacement: 0.1...16.4 A\n",
      "Frame 41: CORE RMSD before/after superposition: 2.9 / 2.0 A. min-max displacement: 0.1...16.6 A\n",
      "Frame 42: CORE RMSD before/after superposition: 2.9 / 2.0 A. min-max displacement: 0.1...16.9 A\n",
      "Frame 43: CORE RMSD before/after superposition: 3.0 / 2.0 A. min-max displacement: 0.1...17.2 A\n",
      "Frame 44: CORE RMSD before/after superposition: 2.9 / 2.0 A. min-max displacement: 0.1...17.7 A\n",
      "Frame 45: CORE RMSD before/after superposition: 3.0 / 2.0 A. min-max displacement: 0.0...17.9 A\n",
      "Frame 46: CORE RMSD before/after superposition: 3.0 / 2.0 A. min-max displacement: 0.1...18.5 A\n",
      "Frame 47: CORE RMSD before/after superposition: 3.1 / 2.0 A. min-max displacement: 0.2...18.4 A\n",
      "Frame 48: CORE RMSD before/after superposition: 3.1 / 2.1 A. min-max displacement: 0.1...18.7 A\n",
      "Frame 49: CORE RMSD before/after superposition: 3.1 / 2.1 A. min-max displacement: 0.1...18.5 A\n",
      "Frame 50: CORE RMSD before/after superposition: 3.1 / 2.1 A. min-max displacement: 0.1...19.4 A\n",
      "Frame 51: CORE RMSD before/after superposition: 3.1 / 2.1 A. min-max displacement: 0.1...20.0 A\n",
      "Frame 52: CORE RMSD before/after superposition: 3.1 / 2.1 A. min-max displacement: 0.1...19.6 A\n",
      "Frame 53: CORE RMSD before/after superposition: 3.2 / 2.1 A. min-max displacement: 0.1...19.3 A\n",
      "Frame 54: CORE RMSD before/after superposition: 3.2 / 2.1 A. min-max displacement: 0.1...19.9 A\n",
      "Frame 55: CORE RMSD before/after superposition: 3.3 / 2.2 A. min-max displacement: 0.1...20.1 A\n",
      "Frame 56: CORE RMSD before/after superposition: 3.3 / 2.2 A. min-max displacement: 0.1...20.4 A\n",
      "Frame 57: CORE RMSD before/after superposition: 3.3 / 2.2 A. min-max displacement: 0.1...20.3 A\n",
      "Frame 58: CORE RMSD before/after superposition: 3.4 / 2.3 A. min-max displacement: 0.1...20.9 A\n",
      "Frame 59: CORE RMSD before/after superposition: 3.4 / 2.3 A. min-max displacement: 0.1...21.0 A\n",
      "Frame 60: CORE RMSD before/after superposition: 3.4 / 2.3 A. min-max displacement: 0.1...20.6 A\n",
      "Frame 61: CORE RMSD before/after superposition: 3.4 / 2.3 A. min-max displacement: 0.1...20.8 A\n",
      "Frame 62: CORE RMSD before/after superposition: 3.4 / 2.3 A. min-max displacement: 0.1...21.3 A\n",
      "Frame 63: CORE RMSD before/after superposition: 3.5 / 2.3 A. min-max displacement: 0.1...21.4 A\n",
      "Frame 64: CORE RMSD before/after superposition: 3.5 / 2.3 A. min-max displacement: 0.1...21.9 A\n",
      "Frame 65: CORE RMSD before/after superposition: 3.6 / 2.3 A. min-max displacement: 0.2...22.1 A\n",
      "Frame 66: CORE RMSD before/after superposition: 3.6 / 2.3 A. min-max displacement: 0.1...22.4 A\n",
      "Frame 67: CORE RMSD before/after superposition: 3.6 / 2.3 A. min-max displacement: 0.1...22.4 A\n",
      "Frame 68: CORE RMSD before/after superposition: 3.6 / 2.4 A. min-max displacement: 0.1...22.7 A\n",
      "Frame 69: CORE RMSD before/after superposition: 3.7 / 2.4 A. min-max displacement: 0.1...22.9 A\n",
      "Frame 70: CORE RMSD before/after superposition: 3.7 / 2.4 A. min-max displacement: 0.1...23.4 A\n",
      "Frame 71: CORE RMSD before/after superposition: 3.8 / 2.4 A. min-max displacement: 0.1...23.2 A\n",
      "Frame 72: CORE RMSD before/after superposition: 3.7 / 2.4 A. min-max displacement: 0.2...23.4 A\n",
      "Frame 73: CORE RMSD before/after superposition: 3.7 / 2.4 A. min-max displacement: 0.1...23.2 A\n",
      "Frame 74: CORE RMSD before/after superposition: 3.7 / 2.4 A. min-max displacement: 0.1...23.5 A\n",
      "Frame 75: CORE RMSD before/after superposition: 3.8 / 2.4 A. min-max displacement: 0.2...23.5 A\n",
      "Frame 76: CORE RMSD before/after superposition: 3.8 / 2.4 A. min-max displacement: 0.2...23.7 A\n",
      "Frame 77: CORE RMSD before/after superposition: 3.8 / 2.4 A. min-max displacement: 0.1...23.4 A\n",
      "Frame 78: CORE RMSD before/after superposition: 3.8 / 2.4 A. min-max displacement: 0.1...23.5 A\n",
      "Frame 79: CORE RMSD before/after superposition: 3.7 / 2.4 A. min-max displacement: 0.1...23.6 A\n",
      "Frame 80: CORE RMSD before/after superposition: 3.7 / 2.4 A. min-max displacement: 0.1...23.4 A\n",
      "Frame 81: CORE RMSD before/after superposition: 3.7 / 2.4 A. min-max displacement: 0.1...23.3 A\n",
      "Frame 82: CORE RMSD before/after superposition: 3.7 / 2.4 A. min-max displacement: 0.1...23.3 A\n",
      "Frame 83: CORE RMSD before/after superposition: 3.7 / 2.4 A. min-max displacement: 0.1...23.7 A\n",
      "Frame 84: CORE RMSD before/after superposition: 3.8 / 2.4 A. min-max displacement: 0.0...23.7 A\n",
      "Frame 85: CORE RMSD before/after superposition: 3.7 / 2.4 A. min-max displacement: 0.1...23.5 A\n",
      "Frame 86: CORE RMSD before/after superposition: 3.7 / 2.4 A. min-max displacement: 0.0...23.7 A\n"
     ]
    },
    {
     "name": "stdout",
     "output_type": "stream",
     "text": [
      "Frame 87: CORE RMSD before/after superposition: 3.8 / 2.4 A. min-max displacement: 0.2...24.0 A\n",
      "Frame 88: CORE RMSD before/after superposition: 3.8 / 2.4 A. min-max displacement: 0.1...24.2 A\n",
      "Frame 89: CORE RMSD before/after superposition: 3.8 / 2.4 A. min-max displacement: 0.1...23.8 A\n",
      "Frame 90: CORE RMSD before/after superposition: 3.8 / 2.5 A. min-max displacement: 0.1...24.2 A\n",
      "Frame 91: CORE RMSD before/after superposition: 3.8 / 2.4 A. min-max displacement: 0.1...24.2 A\n",
      "Frame 92: CORE RMSD before/after superposition: 3.8 / 2.4 A. min-max displacement: 0.1...24.0 A\n",
      "Frame 93: CORE RMSD before/after superposition: 3.8 / 2.4 A. min-max displacement: 0.1...24.1 A\n",
      "Frame 94: CORE RMSD before/after superposition: 3.8 / 2.4 A. min-max displacement: 0.1...24.2 A\n",
      "Frame 95: CORE RMSD before/after superposition: 3.8 / 2.4 A. min-max displacement: 0.1...24.2 A\n",
      "Frame 96: CORE RMSD before/after superposition: 3.9 / 2.5 A. min-max displacement: 0.1...24.5 A\n",
      "Frame 97: CORE RMSD before/after superposition: 3.9 / 2.4 A. min-max displacement: 0.1...24.5 A\n",
      "Wrote PDB trajectory adk_distance_bfac.pdb with distances in bfactor field\n"
     ]
    }
   ],
   "source": [
    "u.add_TopologyAttr('tempfactors')\n",
    "with MDAnalysis.Writer(pdbtrj, multiframe=True, bonds=None, n_atoms=u.atoms.n_atoms) as PDB:\n",
    " ref.trajectory[0]\n",
    " for ts in u.trajectory:\n",
    "  rmsd = MDAnalysis.analysis.align.alignto(u.atoms, ref.atoms, select=CORE_selection)  \n",
    "  distances = np.sqrt(np.sum((u.atoms.positions - ref.atoms.positions)**2, axis=1))\n",
    "  u.atoms.tempfactors = distances\n",
    "  PDB.write(u.atoms)\n",
    "  print(\"Frame {0}: CORE RMSD before/after superposition: {1[0]:.1f} / {1[1]:.1f} A. \"\n",
    "              \"min-max displacement: {2:.1f}...{3:.1f} A\".format(ts.frame, rmsd, distances.min(), distances.max()))\n",
    "\n",
    "print(\"Wrote PDB trajectory {0} with distances in bfactor field\".format(pdbtrj))"
   ]
  },
  {
   "cell_type": "code",
   "execution_count": 78,
   "metadata": {},
   "outputs": [
    {
     "name": "stdout",
     "output_type": "stream",
     "text": [
      "0.0\n",
      "0.35948206992276655\n",
      "0.48108407862258584\n",
      "0.6192953878941839\n",
      "0.634527320209516\n",
      "0.7063221093422035\n",
      "0.736278503174282\n",
      "0.7081276521137824\n",
      "0.7561894563926633\n",
      "0.9549035849380069\n",
      "1.0065264021476263\n",
      "1.0330879178709764\n",
      "1.2271882865991741\n",
      "1.2825978496297867\n",
      "1.3612939610666692\n",
      "1.3722144044061821\n",
      "1.4634075814540928\n",
      "1.5072102650833117\n",
      "1.6228793237474315\n",
      "1.6646085606202161\n",
      "1.7319145157485718\n",
      "1.663958580167596\n",
      "1.753203982246913\n",
      "1.7501712753883307\n",
      "1.8380447741822319\n",
      "1.7273436369914794\n",
      "1.7149016972034263\n",
      "1.7114309030984638\n",
      "1.7156846451618262\n",
      "1.6826656781502756\n",
      "1.7072874981648125\n",
      "1.6910971963815402\n",
      "1.7241935353443445\n",
      "1.6873705081765618\n",
      "1.659823616780772\n",
      "1.6860164926394896\n",
      "1.6941972479732577\n",
      "1.4959717407495716\n",
      "1.5066509313946124\n",
      "1.4651452963951581\n",
      "1.5257023649461336\n",
      "1.5139088337447746\n",
      "1.3695937563570044\n",
      "1.3752825942516946\n",
      "1.448241888499385\n",
      "1.345351286894461\n",
      "1.40887014755742\n",
      "1.2566531432304446\n",
      "1.2541693630936164\n",
      "1.2170630083962306\n",
      "1.2051988328694239\n",
      "1.1926928379778479\n",
      "1.2913307343717244\n",
      "1.341434835764605\n",
      "1.355512760539811\n",
      "1.379053060611758\n",
      "1.3655083890790252\n",
      "1.4071098897643948\n",
      "1.4897652606754463\n",
      "1.440730660170691\n",
      "1.4059908543989696\n",
      "1.3258811564085728\n",
      "1.2259177656744176\n",
      "1.2325324712899475\n",
      "1.1470011839057808\n",
      "1.218758835958519\n",
      "1.257702312148644\n",
      "1.1950527218394655\n",
      "1.2439667197197968\n",
      "1.2193924560413587\n",
      "1.2963911321688075\n",
      "1.1764716647725857\n",
      "1.3036594712115388\n",
      "1.2739984338961614\n",
      "1.362681584220683\n",
      "1.276138420251201\n",
      "1.2946104822458984\n",
      "1.3276804762623236\n",
      "1.331248602963213\n",
      "1.254093274281681\n",
      "1.2803757517513272\n",
      "1.3322891673075674\n",
      "1.359696717062485\n",
      "1.3797375685714124\n",
      "1.5153682818118035\n",
      "1.5872846227210098\n",
      "1.656973723108326\n",
      "1.6502409004499847\n",
      "1.7809551405962227\n",
      "1.8617295969146987\n",
      "1.8802249143617762\n",
      "1.9285029182287343\n",
      "1.8991589515000915\n",
      "1.9189390951612022\n",
      "1.9025006152323627\n",
      "1.8858839008908446\n",
      "1.9058960322682692\n",
      "1.9203452308331908\n"
     ]
    }
   ],
   "source": [
    "import numpy as np\n",
    "from MDAnalysis.analysis.rms import rmsd\n",
    "from MDAnalysis.tests.datafiles import PSF, DCD\n",
    "u = MDAnalysis.Universe(PSF, DCD)\n",
    "NMP= u.select_atoms(\"resid 30-59 and name CA\")\n",
    "nframes=len(u.trajectory)\n",
    "results = list(np.zeros((nframes, 2), dtype=np.float64)) \n",
    "ref0 = NMP.positions - NMP.center_of_mass()\n",
    "\n",
    "for iframe, ts in enumerate(u.trajectory):\n",
    " \n",
    " results[iframe]=  (u.trajectory.time,\n",
    "                                        rmsd(NMP.positions, ref0,\n",
    "                                           center=True, superposition=True))   \n",
    " print(results[iframe][1])\n"
   ]
  },
  {
   "cell_type": "code",
   "execution_count": 86,
   "metadata": {},
   "outputs": [
    {
     "data": {
      "image/png": "[encoded data removed]",
      "text/plain": [
       "<Figure size 432x288 with 1 Axes>"
      ]
     },
     "metadata": {
      "needs_background": "light"
     },
     "output_type": "display_data"
    }
   ],
   "source": [
    "import matplotlib.pyplot as plt\n",
    "%matplotlib inline\n",
    "li1=[]\n",
    "li2=[]\n",
    "rmsd_value=[]\n",
    "for i in range(len(results)):\n",
    "\n",
    "    li1.append(results[i][0])\n",
    "    li2.append(results[i][1])\n",
    "# print(li1)\n",
    "# print(li2)\n",
    "plt.plot(li1,li2,'r')\n",
    "plt.xlabel(\"time\")\n",
    "plt.ylabel(\"RMSD value\")\n",
    "plt.axis([0.0,98.0,0.0,2.0])\n",
    "plt.show()\n",
    "\n"
   ]
  },
  {
   "cell_type": "code",
   "execution_count": null,
   "metadata": {},
   "outputs": [],
   "source": []
  }
 ],
 "metadata": {
  "kernelspec": {
   "display_name": "Python 3",
   "language": "python",
   "name": "python3"
  },
  "language_info": {
   "codemirror_mode": {
    "name": "ipython",
    "version": 3
   },
   "file_extension": ".py",
   "mimetype": "text/x-python",
   "name": "python",
   "nbconvert_exporter": "python",
   "pygments_lexer": "ipython3",
   "version": "3.8.5"
  }
 },
 "nbformat": 4,
 "nbformat_minor": 4
}
